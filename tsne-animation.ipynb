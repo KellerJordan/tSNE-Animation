{
 "cells": [
  {
   "cell_type": "code",
   "execution_count": 1,
   "metadata": {},
   "outputs": [],
   "source": [
    "from importlib import reload\n",
    "\n",
    "import pickle\n",
    "\n",
    "from sklearn.manifold import TSNE\n",
    "import tsne_hack\n",
    "reload(tsne_hack)\n",
    "from tsne_hack import extract_sequence\n",
    "\n",
    "with open('../TriMap-PyTorch/data/mnist10k.pkl', 'rb') as f:\n",
    "    X, labels = pickle.load(f)"
   ]
  },
  {
   "cell_type": "code",
   "execution_count": 2,
   "metadata": {},
   "outputs": [
    {
     "name": "stdout",
     "output_type": "stream",
     "text": [
      "[t-SNE] Computing 91 nearest neighbors...\n",
      "[t-SNE] Indexed 10000 samples in 0.919s...\n",
      "[t-SNE] Computed neighbors for 10000 samples in 161.188s...\n",
      "[t-SNE] Computed conditional probabilities for sample 1000 / 10000\n",
      "[t-SNE] Computed conditional probabilities for sample 2000 / 10000\n",
      "[t-SNE] Computed conditional probabilities for sample 3000 / 10000\n",
      "[t-SNE] Computed conditional probabilities for sample 4000 / 10000\n",
      "[t-SNE] Computed conditional probabilities for sample 5000 / 10000\n",
      "[t-SNE] Computed conditional probabilities for sample 6000 / 10000\n",
      "[t-SNE] Computed conditional probabilities for sample 7000 / 10000\n",
      "[t-SNE] Computed conditional probabilities for sample 8000 / 10000\n",
      "[t-SNE] Computed conditional probabilities for sample 9000 / 10000\n",
      "[t-SNE] Computed conditional probabilities for sample 10000 / 10000\n",
      "[t-SNE] Mean sigma: 433.992151\n",
      "[t-SNE] KL divergence after 250 iterations with early exaggeration: 90.970421\n",
      "[t-SNE] Error after 550 iterations: 3.181474\n"
     ]
    }
   ],
   "source": [
    "Y_seq = extract_sequence(TSNE(learning_rate=1000, verbose=True), X)"
   ]
  },
  {
   "cell_type": "code",
   "execution_count": 7,
   "metadata": {},
   "outputs": [
    {
     "name": "stdout",
     "output_type": "stream",
     "text": [
      "[*] Saving animation as ./mnist10k-tsne.gif\n",
      "[50 / 550] Animating frames\n",
      "[100 / 550] Animating frames\n",
      "[150 / 550] Animating frames\n",
      "[200 / 550] Animating frames\n",
      "[250 / 550] Animating frames\n",
      "[300 / 550] Animating frames\n",
      "[350 / 550] Animating frames\n",
      "[400 / 550] Animating frames\n",
      "[450 / 550] Animating frames\n",
      "[500 / 550] Animating frames\n",
      "[550 / 550] Animating frames\n"
     ]
    }
   ],
   "source": [
    "import visualize\n",
    "reload(visualize)\n",
    "\n",
    "visualize.savegif(Y_seq, labels, 'mnist10k-tsne', './mnist10k-tsne.gif')"
   ]
  }
 ],
 "metadata": {
  "kernelspec": {
   "display_name": "Python 3",
   "language": "python",
   "name": "python3"
  },
  "language_info": {
   "codemirror_mode": {
    "name": "ipython",
    "version": 3
   },
   "file_extension": ".py",
   "mimetype": "text/x-python",
   "name": "python",
   "nbconvert_exporter": "python",
   "pygments_lexer": "ipython3",
   "version": "3.5.2"
  }
 },
 "nbformat": 4,
 "nbformat_minor": 2
}
